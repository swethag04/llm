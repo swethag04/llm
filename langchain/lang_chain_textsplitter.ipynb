{
  "nbformat": 4,
  "nbformat_minor": 0,
  "metadata": {
    "colab": {
      "provenance": [],
      "authorship_tag": "ABX9TyNSIidhrKlNm6bpOuXMIRZ+",
      "include_colab_link": true
    },
    "kernelspec": {
      "name": "python3",
      "display_name": "Python 3"
    },
    "language_info": {
      "name": "python"
    }
  },
  "cells": [
    {
      "cell_type": "markdown",
      "metadata": {
        "id": "view-in-github",
        "colab_type": "text"
      },
      "source": [
        "<a href=\"https://colab.research.google.com/github/swethag04/llm/blob/main/langchain/lang_chain_textsplitter.ipynb\" target=\"_parent\"><img src=\"https://colab.research.google.com/assets/colab-badge.svg\" alt=\"Open In Colab\"/></a>"
      ]
    },
    {
      "cell_type": "code",
      "execution_count": 74,
      "metadata": {
        "id": "jzRdv_d03el_"
      },
      "outputs": [],
      "source": [
        "#!pip install langchain==0.0.284\n",
        "\n",
        "#!pip install openai\n",
        "\n",
        "#pip3 install unstructured==0.9.2 libmagic==1.0 python-magic==0.4.15 python-magic-bin==0.4.14"
      ]
    },
    {
      "cell_type": "code",
      "source": [
        "#!apt-get install libmagic-dev\n",
        "#!pip install python-magic"
      ],
      "metadata": {
        "id": "ODBVePwi-KZK"
      },
      "execution_count": 75,
      "outputs": []
    },
    {
      "cell_type": "markdown",
      "source": [
        "### Text Loader"
      ],
      "metadata": {
        "id": "G6kx5leaAWTs"
      }
    },
    {
      "cell_type": "code",
      "source": [
        "from langchain.document_loaders import TextLoader"
      ],
      "metadata": {
        "id": "jgBOIgT_3lT2"
      },
      "execution_count": 76,
      "outputs": []
    },
    {
      "cell_type": "code",
      "source": [
        "loader = TextLoader('/content/sample_data/goog-news.txt')\n",
        "data = loader.load()"
      ],
      "metadata": {
        "id": "Ec-3gFIM3usa"
      },
      "execution_count": 77,
      "outputs": []
    },
    {
      "cell_type": "code",
      "source": [
        "data"
      ],
      "metadata": {
        "colab": {
          "base_uri": "https://localhost:8080/"
        },
        "id": "hJZJcemN7QHo",
        "outputId": "d185ab8e-f89e-4ed5-ef4e-ed523dae8774"
      },
      "execution_count": 78,
      "outputs": [
        {
          "output_type": "execute_result",
          "data": {
            "text/plain": [
              "[Document(page_content='GOOG Stock Dip: A Perfect Buy-the-Drop Opportunity for Savvy Investors?\\nAfter a big earnings letdown, it could take a while for GOOG stock to recover\\n\\n1d ago · By Louis Navellier and the InvestorPlace Research Staff\\nAlphabet (GOOG, GOOGL) stock dropped sharply due to the company’s disappointing third-quarter cloud business revenue.\\nHowever, there was a bright spot in Alphabet’s advertising business.\\nInvestors might think about holding a small number of GOOG stock shares.\\nMusk’s “Project Omega” May Be Set to Mint New Millionaires. Here’s How to Get In.\\nGOOG stock - GOOG Stock Dip: A Perfect Buy-the-Drop Opportunity for Savvy Investors?\\nSource: achinthamb / Shutterstock.com\\n\\nGoogle and YouTube parent company Alphabet (NASDAQ:GOOG, NASDAQ:GOOGL) is a member of the elite “Magnificent Seven” group of technology giants. However, the company isn’t perfect in every way. After an earnings-event disappointment, the market furiously sold GOOG stock. This doesn’t mean Alphabet is a hopeless company, though, and there may be investment opportunities to consider.    \\n\\nPrabhakar Raghavan, a Google senior vice president, recently expressed concern that Google could become “the next roadkill.” TikTok is a threat in the social media space, but Google still has a nearly 90% share of the search engine market. Let’s delve further into the discussion and see if we can uncover some investment strategies.\\n\\n7 Stocks Legendary Stock Picker Thinks Will Crush It in 2024\\n\\n\\nWhy Did GOOG Stock Plummet?\\nRaghavan’s “roadkill” comment certainly didn’t bolster the market’s confidence in Google and Alphabet. Yet that comment isn’t what prompted a 9.5% GOOG stock price drop, which was the worst single-day decline in the Alphabet share price since March 2020.\\n\\nInstead, the culprit was Alphabet’s third-quarter 2023 earnings results. Interestingly, Alphabet actually posted top- and bottom-line beats for the quarter.\\n\\nTo be more specific, Alphabet generated revenue of $76.69 billion, up 11% year over year and ahead of the analysts’ consensus estimate of $76 billion. Alphabet’s quarterly EPS came in at $1.55, exceeding Wall Street’s forecast of $1.46.\\n\\nSo far, so good – right? Not so fast, as the market will sometimes focus on a particular set of data in a company’s earnings report. Here, the market was disappointed with Alphabet’s cloud-computing market results.\\n\\nFor Q3 of 2023, Alphabet’s Google Cloud revenue grew 22% year over year to $8.4 billion. However, this result was down 28% quarter over quarter, and it fell short of analysts’ forecast of $8.6 billion.\\n\\n5 AI Stocks to Buy Before They Skyrocket\\nInvesting titan Luke Lango has an impressive track record of calling innovation stocks before they skyrocket... like TSLA soaring 3,628%… AMD 8,290%… and GME before it launched 12,096%.\\n\\nNow he’s naming 5 AI Revolution Stocks — starting as low as $1.25 a share.\\n\\nLuke says in the world of AI, 10,000% returns are entirely possible. You can’t afford to miss the most essential stocks for our rapidly changing world.\\n\\nGet the names of all 5 AI stocks here.\\n\\nMax Willens, an analyst with Insider Intelligence, noted Alphabet’s challenges in the field of cloud computing. “Cloud computing is a much lumpier business than advertising, and one where Google is facing stiff competition,” Willens observed.\\n\\nIt’s Not All Bad News for Alphabet\\nClearly, the market didn’t like Alphabet’s performance in its cloud computing segment. However, Wedbush analyst Scott Devitt pointed out that Google Cloud only comprises around 11% of Alphabet’s revenue and roughly 1% of the company’s operating income.\\n\\nIn contrast, Alphabet’s main advertising business comprises 78% of Alphabet’s revenue and is, according to Devitt, “accelerating into 4Q, and beat 3Q expectations by more than enough to offset slower cloud growth.” This certainly puts Alphabet’s cloud segment letdown into perspective.       \\n\\nMoreover, the data shows that Alphabet beat the Street with strong quarterly advertising business. During 2023’s third quarter, Alphabet posted $59.7 billion in advertising revenue, above the Wall Street consensus forecast of $58.9 billion.\\n\\n7 Stocks Legendary Stock Picker Thinks Will Crush It in 2024\\n\\n\\nGOOG Stock: Possible Strategies for the Fourth Quarter\\nApparently, the market dumped Alphabet shares even though the company’s bread-and-butter advertising business is doing well. This could present opportunities for enterprising investors.\\n\\nValue-focused investors might want to wait for the Alphabet share price to drop another 5% to 10% before taking a position. Momentum-focused traders, in contrast, could wait until the stock recovers most or all of its drawdown before buying some Alphabet shares.\\n\\nLong-term investors, meanwhile, can simply buy GOOG stock but maintain a small position size. This leaves room to add a few more shares if the stock goes lower.\\n\\nJust be careful with the “averaging down” strategy and don’t overdo it. Even if you believe in Alphabet’s long-term prospects, remember that chasing stocks at low prices can be just as hazardous as chasing them at high prices.\\n\\nOn the date of publication, neither Louis Navellier nor the InvestorPlace Research Staff member primarily responsible for this article held (either directly or indirectly) any positions in the securities mentioned in this article.', metadata={'source': '/content/sample_data/goog-news.txt'})]"
            ]
          },
          "metadata": {},
          "execution_count": 78
        }
      ]
    },
    {
      "cell_type": "code",
      "source": [
        "data[0].page_content"
      ],
      "metadata": {
        "colab": {
          "base_uri": "https://localhost:8080/",
          "height": 191
        },
        "id": "HPj3R7ep7RKQ",
        "outputId": "bfbf6f14-870c-418f-d640-b93f7d46d6c8"
      },
      "execution_count": 79,
      "outputs": [
        {
          "output_type": "execute_result",
          "data": {
            "text/plain": [
              "'GOOG Stock Dip: A Perfect Buy-the-Drop Opportunity for Savvy Investors?\\nAfter a big earnings letdown, it could take a while for GOOG stock to recover\\n\\n1d ago · By Louis Navellier and the InvestorPlace Research Staff\\nAlphabet (GOOG, GOOGL) stock dropped sharply due to the company’s disappointing third-quarter cloud business revenue.\\nHowever, there was a bright spot in Alphabet’s advertising business.\\nInvestors might think about holding a small number of GOOG stock shares.\\nMusk’s “Project Omega” May Be Set to Mint New Millionaires. Here’s How to Get In.\\nGOOG stock - GOOG Stock Dip: A Perfect Buy-the-Drop Opportunity for Savvy Investors?\\nSource: achinthamb / Shutterstock.com\\n\\nGoogle and YouTube parent company Alphabet (NASDAQ:GOOG, NASDAQ:GOOGL) is a member of the elite “Magnificent Seven” group of technology giants. However, the company isn’t perfect in every way. After an earnings-event disappointment, the market furiously sold GOOG stock. This doesn’t mean Alphabet is a hopeless company, though, and there may be investment opportunities to consider.    \\n\\nPrabhakar Raghavan, a Google senior vice president, recently expressed concern that Google could become “the next roadkill.” TikTok is a threat in the social media space, but Google still has a nearly 90% share of the search engine market. Let’s delve further into the discussion and see if we can uncover some investment strategies.\\n\\n7 Stocks Legendary Stock Picker Thinks Will Crush It in 2024\\n\\n\\nWhy Did GOOG Stock Plummet?\\nRaghavan’s “roadkill” comment certainly didn’t bolster the market’s confidence in Google and Alphabet. Yet that comment isn’t what prompted a 9.5% GOOG stock price drop, which was the worst single-day decline in the Alphabet share price since March 2020.\\n\\nInstead, the culprit was Alphabet’s third-quarter 2023 earnings results. Interestingly, Alphabet actually posted top- and bottom-line beats for the quarter.\\n\\nTo be more specific, Alphabet generated revenue of $76.69 billion, up 11% year over year and ahead of the analysts’ consensus estimate of $76 billion. Alphabet’s quarterly EPS came in at $1.55, exceeding Wall Street’s forecast of $1.46.\\n\\nSo far, so good – right? Not so fast, as the market will sometimes focus on a particular set of data in a company’s earnings report. Here, the market was disappointed with Alphabet’s cloud-computing market results.\\n\\nFor Q3 of 2023, Alphabet’s Google Cloud revenue grew 22% year over year to $8.4 billion. However, this result was down 28% quarter over quarter, and it fell short of analysts’ forecast of $8.6 billion.\\n\\n5 AI Stocks to Buy Before They Skyrocket\\nInvesting titan Luke Lango has an impressive track record of calling innovation stocks before they skyrocket... like TSLA soaring 3,628%… AMD 8,290%… and GME before it launched 12,096%.\\n\\nNow he’s naming 5 AI Revolution Stocks — starting as low as $1.25 a share.\\n\\nLuke says in the world of AI, 10,000% returns are entirely possible. You can’t afford to miss the most essential stocks for our rapidly changing world.\\n\\nGet the names of all 5 AI stocks here.\\n\\nMax Willens, an analyst with Insider Intelligence, noted Alphabet’s challenges in the field of cloud computing. “Cloud computing is a much lumpier business than advertising, and one where Google is facing stiff competition,” Willens observed.\\n\\nIt’s Not All Bad News for Alphabet\\nClearly, the market didn’t like Alphabet’s performance in its cloud computing segment. However, Wedbush analyst Scott Devitt pointed out that Google Cloud only comprises around 11% of Alphabet’s revenue and roughly 1% of the company’s operating income.\\n\\nIn contrast, Alphabet’s main advertising business comprises 78% of Alphabet’s revenue and is, according to Devitt, “accelerating into 4Q, and beat 3Q expectations by more than enough to offset slower cloud growth.” This certainly puts Alphabet’s cloud segment letdown into perspective.       \\n\\nMoreover, the data shows that Alphabet beat the Street with strong quarterly advertising business. During 2023’s third quarter, Alphabet posted $59.7 billion in advertising revenue, above the Wall Street consensus forecast of $58.9 billion.\\n\\n7 Stocks Legendary Stock Picker Thinks Will Crush It in 2024\\n\\n\\nGOOG Stock: Possible Strategies for the Fourth Quarter\\nApparently, the market dumped Alphabet shares even though the company’s bread-and-butter advertising business is doing well. This could present opportunities for enterprising investors.\\n\\nValue-focused investors might want to wait for the Alphabet share price to drop another 5% to 10% before taking a position. Momentum-focused traders, in contrast, could wait until the stock recovers most or all of its drawdown before buying some Alphabet shares.\\n\\nLong-term investors, meanwhile, can simply buy GOOG stock but maintain a small position size. This leaves room to add a few more shares if the stock goes lower.\\n\\nJust be careful with the “averaging down” strategy and don’t overdo it. Even if you believe in Alphabet’s long-term prospects, remember that chasing stocks at low prices can be just as hazardous as chasing them at high prices.\\n\\nOn the date of publication, neither Louis Navellier nor the InvestorPlace Research Staff member primarily responsible for this article held (either directly or indirectly) any positions in the securities mentioned in this article.'"
            ],
            "application/vnd.google.colaboratory.intrinsic+json": {
              "type": "string"
            }
          },
          "metadata": {},
          "execution_count": 79
        }
      ]
    },
    {
      "cell_type": "code",
      "source": [
        "data[0].metadata"
      ],
      "metadata": {
        "colab": {
          "base_uri": "https://localhost:8080/"
        },
        "id": "L0VmENvl7ZG0",
        "outputId": "d7af44c3-b380-4176-d1c1-2397c9fbec8c"
      },
      "execution_count": 80,
      "outputs": [
        {
          "output_type": "execute_result",
          "data": {
            "text/plain": [
              "{'source': '/content/sample_data/goog-news.txt'}"
            ]
          },
          "metadata": {},
          "execution_count": 80
        }
      ]
    },
    {
      "cell_type": "markdown",
      "source": [
        "### CSV Loader"
      ],
      "metadata": {
        "id": "PXwabL95AZzH"
      }
    },
    {
      "cell_type": "code",
      "source": [
        "from langchain.document_loaders.csv_loader import CSVLoader\n",
        "\n",
        "loader = CSVLoader('/content/sample_data/california_housing_train.csv')\n",
        "data = loader.load()"
      ],
      "metadata": {
        "id": "M9VpGwvf7bsW"
      },
      "execution_count": 81,
      "outputs": []
    },
    {
      "cell_type": "code",
      "source": [
        "len(data)"
      ],
      "metadata": {
        "colab": {
          "base_uri": "https://localhost:8080/"
        },
        "id": "UbBWG5j_73GI",
        "outputId": "55e77aad-2b20-4496-ae7c-83ab24a9e07d"
      },
      "execution_count": 82,
      "outputs": [
        {
          "output_type": "execute_result",
          "data": {
            "text/plain": [
              "17000"
            ]
          },
          "metadata": {},
          "execution_count": 82
        }
      ]
    },
    {
      "cell_type": "code",
      "source": [
        "data[0]"
      ],
      "metadata": {
        "colab": {
          "base_uri": "https://localhost:8080/"
        },
        "id": "qS09FDYX77k1",
        "outputId": "16abeaf5-41f6-45ef-c523-fcf6d8c2b831"
      },
      "execution_count": 83,
      "outputs": [
        {
          "output_type": "execute_result",
          "data": {
            "text/plain": [
              "Document(page_content='longitude: -114.310000\\nlatitude: 34.190000\\nhousing_median_age: 15.000000\\ntotal_rooms: 5612.000000\\ntotal_bedrooms: 1283.000000\\npopulation: 1015.000000\\nhouseholds: 472.000000\\nmedian_income: 1.493600\\nmedian_house_value: 66900.000000', metadata={'source': '/content/sample_data/california_housing_train.csv', 'row': 0})"
            ]
          },
          "metadata": {},
          "execution_count": 83
        }
      ]
    },
    {
      "cell_type": "code",
      "source": [
        "type(data[0])"
      ],
      "metadata": {
        "colab": {
          "base_uri": "https://localhost:8080/"
        },
        "id": "yYyM13Xd79AF",
        "outputId": "1cd05525-4c62-4163-f55a-2917a877903d"
      },
      "execution_count": 84,
      "outputs": [
        {
          "output_type": "execute_result",
          "data": {
            "text/plain": [
              "langchain.schema.document.Document"
            ]
          },
          "metadata": {},
          "execution_count": 84
        }
      ]
    },
    {
      "cell_type": "code",
      "source": [
        "data[0].metadata"
      ],
      "metadata": {
        "colab": {
          "base_uri": "https://localhost:8080/"
        },
        "id": "JyRSdILZ8AdV",
        "outputId": "265170ea-4296-42d8-bc28-898522d2ae1e"
      },
      "execution_count": 85,
      "outputs": [
        {
          "output_type": "execute_result",
          "data": {
            "text/plain": [
              "{'source': '/content/sample_data/california_housing_train.csv', 'row': 0}"
            ]
          },
          "metadata": {},
          "execution_count": 85
        }
      ]
    },
    {
      "cell_type": "markdown",
      "source": [
        "###URL Loader"
      ],
      "metadata": {
        "id": "RbnME7AxAefW"
      }
    },
    {
      "cell_type": "code",
      "source": [
        "!pip install unstructured==0.9.2"
      ],
      "metadata": {
        "colab": {
          "base_uri": "https://localhost:8080/"
        },
        "id": "XKHvMnal-VHE",
        "outputId": "46a5d4fc-057d-413b-969c-a12050b2cf3f"
      },
      "execution_count": 86,
      "outputs": [
        {
          "output_type": "stream",
          "name": "stdout",
          "text": [
            "Requirement already satisfied: unstructured==0.9.2 in /usr/local/lib/python3.10/dist-packages (0.9.2)\n",
            "Requirement already satisfied: chardet in /usr/local/lib/python3.10/dist-packages (from unstructured==0.9.2) (5.2.0)\n",
            "Requirement already satisfied: filetype in /usr/local/lib/python3.10/dist-packages (from unstructured==0.9.2) (1.2.0)\n",
            "Requirement already satisfied: python-magic in /usr/local/lib/python3.10/dist-packages (from unstructured==0.9.2) (0.4.27)\n",
            "Requirement already satisfied: lxml in /usr/local/lib/python3.10/dist-packages (from unstructured==0.9.2) (4.9.3)\n",
            "Requirement already satisfied: nltk in /usr/local/lib/python3.10/dist-packages (from unstructured==0.9.2) (3.8.1)\n",
            "Requirement already satisfied: tabulate in /usr/local/lib/python3.10/dist-packages (from unstructured==0.9.2) (0.9.0)\n",
            "Requirement already satisfied: requests in /usr/local/lib/python3.10/dist-packages (from unstructured==0.9.2) (2.31.0)\n",
            "Requirement already satisfied: click in /usr/local/lib/python3.10/dist-packages (from nltk->unstructured==0.9.2) (8.1.7)\n",
            "Requirement already satisfied: joblib in /usr/local/lib/python3.10/dist-packages (from nltk->unstructured==0.9.2) (1.3.2)\n",
            "Requirement already satisfied: regex>=2021.8.3 in /usr/local/lib/python3.10/dist-packages (from nltk->unstructured==0.9.2) (2023.6.3)\n",
            "Requirement already satisfied: tqdm in /usr/local/lib/python3.10/dist-packages (from nltk->unstructured==0.9.2) (4.66.1)\n",
            "Requirement already satisfied: charset-normalizer<4,>=2 in /usr/local/lib/python3.10/dist-packages (from requests->unstructured==0.9.2) (3.3.2)\n",
            "Requirement already satisfied: idna<4,>=2.5 in /usr/local/lib/python3.10/dist-packages (from requests->unstructured==0.9.2) (3.4)\n",
            "Requirement already satisfied: urllib3<3,>=1.21.1 in /usr/local/lib/python3.10/dist-packages (from requests->unstructured==0.9.2) (2.0.7)\n",
            "Requirement already satisfied: certifi>=2017.4.17 in /usr/local/lib/python3.10/dist-packages (from requests->unstructured==0.9.2) (2023.7.22)\n"
          ]
        }
      ]
    },
    {
      "cell_type": "code",
      "source": [
        "from langchain.document_loaders import UnstructuredURLLoader"
      ],
      "metadata": {
        "id": "2gQWi44h8E9S"
      },
      "execution_count": 87,
      "outputs": []
    },
    {
      "cell_type": "code",
      "source": [
        "loader = UnstructuredURLLoader(\n",
        "    urls = [\n",
        "        'https://investorplace.com/market360/2023/11/goog-stock-dip-a-perfect-buy-the-drop-opportunity-for-savvy-investors/',\n",
        "        'https://investorplace.com/2023/10/its-time-to-double-down-on-goog-stock-ahead-of-alphabet-earnings/'\n",
        "    ])"
      ],
      "metadata": {
        "id": "uVAgT1wm-v6C"
      },
      "execution_count": 88,
      "outputs": []
    },
    {
      "cell_type": "code",
      "source": [
        "data = loader.load()\n",
        "len(data)"
      ],
      "metadata": {
        "colab": {
          "base_uri": "https://localhost:8080/"
        },
        "id": "2jRaup5SA_En",
        "outputId": "b69f81b8-27b2-4d90-c806-f8eec232b793"
      },
      "execution_count": 89,
      "outputs": [
        {
          "output_type": "execute_result",
          "data": {
            "text/plain": [
              "2"
            ]
          },
          "metadata": {},
          "execution_count": 89
        }
      ]
    },
    {
      "cell_type": "code",
      "source": [
        "data[0].page_content[0:100]"
      ],
      "metadata": {
        "colab": {
          "base_uri": "https://localhost:8080/",
          "height": 52
        },
        "id": "Ji_N9pQpBQNq",
        "outputId": "bf0952d0-5cca-4d74-c509-6c566104a1be"
      },
      "execution_count": 90,
      "outputs": [
        {
          "output_type": "execute_result",
          "data": {
            "text/plain": [
              "'Home /\\n\\nExpert Stock Picks /\\n\\nStocks to Buy /\\n\\nGOOG Stock Dip: A Perfect Buy-the-Drop Opportunity fo'"
            ],
            "application/vnd.google.colaboratory.intrinsic+json": {
              "type": "string"
            }
          },
          "metadata": {},
          "execution_count": 90
        }
      ]
    },
    {
      "cell_type": "code",
      "source": [
        "data[0].metadata"
      ],
      "metadata": {
        "colab": {
          "base_uri": "https://localhost:8080/"
        },
        "id": "GrhvVzQ5BZjv",
        "outputId": "98b0eb0a-29cb-45e4-8141-ccabdf0999bd"
      },
      "execution_count": 91,
      "outputs": [
        {
          "output_type": "execute_result",
          "data": {
            "text/plain": [
              "{'source': 'https://investorplace.com/market360/2023/11/goog-stock-dip-a-perfect-buy-the-drop-opportunity-for-savvy-investors/'}"
            ]
          },
          "metadata": {},
          "execution_count": 91
        }
      ]
    },
    {
      "cell_type": "markdown",
      "source": [
        "### Text Splitters"
      ],
      "metadata": {
        "id": "G-rDTTWABerD"
      }
    },
    {
      "cell_type": "code",
      "source": [
        "from langchain.text_splitter import CharacterTextSplitter\n",
        "\n",
        "splitter = CharacterTextSplitter(\n",
        "    separator = '\\n',\n",
        "    chunk_size = 200,\n",
        "    chunk_overlap=0\n",
        ")"
      ],
      "metadata": {
        "id": "j41qz_WVBcwq"
      },
      "execution_count": 92,
      "outputs": []
    },
    {
      "cell_type": "code",
      "source": [
        "text = data[0].page_content[0:1000]\n",
        "chunks = splitter.split_text(text)\n",
        "len(chunks)"
      ],
      "metadata": {
        "colab": {
          "base_uri": "https://localhost:8080/"
        },
        "id": "KU8LjwOoP9b8",
        "outputId": "7f410238-9f80-4e60-8ae3-60b34123ebc7"
      },
      "execution_count": 93,
      "outputs": [
        {
          "output_type": "execute_result",
          "data": {
            "text/plain": [
              "6"
            ]
          },
          "metadata": {},
          "execution_count": 93
        }
      ]
    },
    {
      "cell_type": "code",
      "source": [
        "print(text)"
      ],
      "metadata": {
        "colab": {
          "base_uri": "https://localhost:8080/"
        },
        "id": "18x1GDKeRpMU",
        "outputId": "73544c2b-502a-4e5c-9889-1009d1af6773"
      },
      "execution_count": 94,
      "outputs": [
        {
          "output_type": "stream",
          "name": "stdout",
          "text": [
            "Home /\n",
            "\n",
            "Expert Stock Picks /\n",
            "\n",
            "Stocks to Buy /\n",
            "\n",
            "GOOG Stock Dip: A Perfect Buy-the-Drop Opportunity for Savvy Investors?\n",
            "\n",
            "SPECIAL REPORT\n",
            "\n",
            "5 Artificial Intelligence Stocks to Buy Before They Skyrocket\n",
            "\n",
            "Meet Louis Navellier\n",
            "\n",
            "GOOG Stock Dip: A Perfect Buy-the-Drop Opportunity for Savvy Investors?\n",
            "\n",
            "After a big earnings letdown, it could take a while for GOOG stock to recover\n",
            "\n",
            "November 5, 2023\n",
            "\n",
            "By\n",
            "\t\t\t\t\t\n",
            "\t\t\t\t\t\tLouis Navellier and the InvestorPlace Research Staff\n",
            "\n",
            "Nov 6, 2023, 6:00 am EST\t\t\t\t\t\t\n",
            "\n",
            "\t\t\t\t\t\t\n",
            "\t\t\t\t\t\t\t\n",
            "\t\t\t\t\t\t\t\tNovember 5, 2023\n",
            "\n",
            "Advertisement\n",
            "\n",
            "Alphabet (GOOG, GOOGL) stock dropped sharply due to the company’s disappointing third-quarter cloud business revenue.\n",
            "\n",
            "However, there was a bright spot in Alphabet’s advertising business.\n",
            "\n",
            "Investors might think about holding a small number of GOOG stock shares.\n",
            "\n",
            "Source: achinthamb / Shutterstock.com\n",
            "\n",
            "Google and YouTube parent company Alphabet (NASDAQ:GOOG, NASDAQ:GOOGL) is a member of the elite “Magnificent Seven” group of technology giants. Howeve\n"
          ]
        }
      ]
    },
    {
      "cell_type": "code",
      "source": [
        "for chunk in chunks:\n",
        "  print(len(chunk))"
      ],
      "metadata": {
        "colab": {
          "base_uri": "https://localhost:8080/"
        },
        "id": "24puwv9XQJio",
        "outputId": "94fb4b00-402e-4bc0-8830-503a5def552d"
      },
      "execution_count": 95,
      "outputs": [
        {
          "output_type": "stream",
          "name": "stdout",
          "text": [
            "192\n",
            "190\n",
            "137\n",
            "186\n",
            "110\n",
            "150\n"
          ]
        }
      ]
    },
    {
      "cell_type": "markdown",
      "source": [
        "### Recursive text splitter\n"
      ],
      "metadata": {
        "id": "cRUggMveQpJd"
      }
    },
    {
      "cell_type": "code",
      "source": [
        "from langchain.text_splitter import RecursiveCharacterTextSplitter\n",
        "\n",
        "r_splitter  = RecursiveCharacterTextSplitter(\n",
        "    separators = [\"\\n\\n\", \"\\n\", \" \"], # can provide a list of separators\n",
        "    chunk_size = 200,\n",
        "    chunk_overlap=0,\n",
        "    length_function = len\n",
        ")"
      ],
      "metadata": {
        "id": "hOuN1ZJ-QlcM"
      },
      "execution_count": 96,
      "outputs": []
    },
    {
      "cell_type": "code",
      "source": [
        "chunks = r_splitter.split_text(text)\n",
        "\n",
        "for chunk in chunks:\n",
        "  print(len(chunk))"
      ],
      "metadata": {
        "colab": {
          "base_uri": "https://localhost:8080/"
        },
        "id": "sZYOwsGxQuzH",
        "outputId": "681a733f-4013-487d-f71e-ba7c10fa4ec8"
      },
      "execution_count": 97,
      "outputs": [
        {
          "output_type": "stream",
          "name": "stdout",
          "text": [
            "197\n",
            "190\n",
            "155\n",
            "187\n",
            "111\n",
            "150\n"
          ]
        }
      ]
    },
    {
      "cell_type": "code",
      "source": [
        "first_split = text.split(\"\\n\\n\")[0]\n",
        "first_split"
      ],
      "metadata": {
        "colab": {
          "base_uri": "https://localhost:8080/",
          "height": 35
        },
        "id": "tVTZw8gzRLV2",
        "outputId": "ea83a7ca-6fbf-451e-966f-65b7adfb89ca"
      },
      "execution_count": 98,
      "outputs": [
        {
          "output_type": "execute_result",
          "data": {
            "text/plain": [
              "'Home /'"
            ],
            "application/vnd.google.colaboratory.intrinsic+json": {
              "type": "string"
            }
          },
          "metadata": {},
          "execution_count": 98
        }
      ]
    },
    {
      "cell_type": "code",
      "source": [
        "len(first_split)"
      ],
      "metadata": {
        "colab": {
          "base_uri": "https://localhost:8080/"
        },
        "id": "qXhZzOXCRSoU",
        "outputId": "8a233c74-66a5-4948-dbef-e15261ed91b6"
      },
      "execution_count": 99,
      "outputs": [
        {
          "output_type": "execute_result",
          "data": {
            "text/plain": [
              "6"
            ]
          },
          "metadata": {},
          "execution_count": 99
        }
      ]
    },
    {
      "cell_type": "code",
      "source": [
        "second_split = first_split.split(\"\\n\")\n",
        "second_split"
      ],
      "metadata": {
        "colab": {
          "base_uri": "https://localhost:8080/"
        },
        "id": "bCwGIqdbRdhu",
        "outputId": "8e7326e3-0422-4d1f-d7e7-4168c8332cdd"
      },
      "execution_count": 100,
      "outputs": [
        {
          "output_type": "execute_result",
          "data": {
            "text/plain": [
              "['Home /']"
            ]
          },
          "metadata": {},
          "execution_count": 100
        }
      ]
    },
    {
      "cell_type": "markdown",
      "source": [
        "### FAISS (Facebook AI Similarity Search)\n",
        "\n",
        "\n",
        "*   Library to quickly seach for embeddings of multimedia docs that are similar to each other\n",
        "*   Can also be used as a light weight in memory vectorDB\n",
        "\n"
      ],
      "metadata": {
        "id": "mTtnjqO2gUp4"
      }
    },
    {
      "cell_type": "code",
      "source": [
        "#!pip install faiss-cpu\n",
        "#!pip install sentence-transformers"
      ],
      "metadata": {
        "id": "JrBtuuRjRjhY"
      },
      "execution_count": 101,
      "outputs": []
    },
    {
      "cell_type": "code",
      "source": [
        "import pandas as pd\n",
        "\n",
        "pd.set_option('display.max_colwidth', 100)"
      ],
      "metadata": {
        "id": "5yhCHY6phoA-"
      },
      "execution_count": 102,
      "outputs": []
    },
    {
      "cell_type": "code",
      "source": [
        "df = pd.read_csv('sample_data/sample_text.csv')\n",
        "df.shape"
      ],
      "metadata": {
        "colab": {
          "base_uri": "https://localhost:8080/"
        },
        "id": "zgGe0K4_iT4C",
        "outputId": "51ced371-1b5a-448b-e671-77b1402a39da"
      },
      "execution_count": 103,
      "outputs": [
        {
          "output_type": "execute_result",
          "data": {
            "text/plain": [
              "(8, 2)"
            ]
          },
          "metadata": {},
          "execution_count": 103
        }
      ]
    },
    {
      "cell_type": "code",
      "source": [
        "df"
      ],
      "metadata": {
        "colab": {
          "base_uri": "https://localhost:8080/",
          "height": 300
        },
        "id": "u2R9VrEKinw1",
        "outputId": "cb27cb65-0b3a-41e2-d38b-d789c307b99f"
      },
      "execution_count": 104,
      "outputs": [
        {
          "output_type": "execute_result",
          "data": {
            "text/plain": [
              "                                                                                  text  \\\n",
              "0                                        Meditation and yoga can improve mental health   \n",
              "1                     Fruits, whole grains and vegetables helps control blood pressure   \n",
              "2                                    These are the latest fashion trends for this week   \n",
              "3                                    Vibrant color jeans for male are becoming a trend   \n",
              "4                                                   The concert starts at 7 PM tonight   \n",
              "5                      Navaratri dandiya program at Expo center in Mumbai this october   \n",
              "6                                    Exciting vacation destinations for your next trip   \n",
              "7  Maldives and Srilanka are gaining popularity in terms of low budget vacation places   \n",
              "\n",
              "  category  \n",
              "0   Health  \n",
              "1   Health  \n",
              "2  Fashion  \n",
              "3  Fashion  \n",
              "4    Event  \n",
              "5    Event  \n",
              "6   Travel  \n",
              "7   Travel  "
            ],
            "text/html": [
              "\n",
              "  <div id=\"df-33711c78-cb49-4a0b-89a5-446b5d51beae\" class=\"colab-df-container\">\n",
              "    <div>\n",
              "<style scoped>\n",
              "    .dataframe tbody tr th:only-of-type {\n",
              "        vertical-align: middle;\n",
              "    }\n",
              "\n",
              "    .dataframe tbody tr th {\n",
              "        vertical-align: top;\n",
              "    }\n",
              "\n",
              "    .dataframe thead th {\n",
              "        text-align: right;\n",
              "    }\n",
              "</style>\n",
              "<table border=\"1\" class=\"dataframe\">\n",
              "  <thead>\n",
              "    <tr style=\"text-align: right;\">\n",
              "      <th></th>\n",
              "      <th>text</th>\n",
              "      <th>category</th>\n",
              "    </tr>\n",
              "  </thead>\n",
              "  <tbody>\n",
              "    <tr>\n",
              "      <th>0</th>\n",
              "      <td>Meditation and yoga can improve mental health</td>\n",
              "      <td>Health</td>\n",
              "    </tr>\n",
              "    <tr>\n",
              "      <th>1</th>\n",
              "      <td>Fruits, whole grains and vegetables helps control blood pressure</td>\n",
              "      <td>Health</td>\n",
              "    </tr>\n",
              "    <tr>\n",
              "      <th>2</th>\n",
              "      <td>These are the latest fashion trends for this week</td>\n",
              "      <td>Fashion</td>\n",
              "    </tr>\n",
              "    <tr>\n",
              "      <th>3</th>\n",
              "      <td>Vibrant color jeans for male are becoming a trend</td>\n",
              "      <td>Fashion</td>\n",
              "    </tr>\n",
              "    <tr>\n",
              "      <th>4</th>\n",
              "      <td>The concert starts at 7 PM tonight</td>\n",
              "      <td>Event</td>\n",
              "    </tr>\n",
              "    <tr>\n",
              "      <th>5</th>\n",
              "      <td>Navaratri dandiya program at Expo center in Mumbai this october</td>\n",
              "      <td>Event</td>\n",
              "    </tr>\n",
              "    <tr>\n",
              "      <th>6</th>\n",
              "      <td>Exciting vacation destinations for your next trip</td>\n",
              "      <td>Travel</td>\n",
              "    </tr>\n",
              "    <tr>\n",
              "      <th>7</th>\n",
              "      <td>Maldives and Srilanka are gaining popularity in terms of low budget vacation places</td>\n",
              "      <td>Travel</td>\n",
              "    </tr>\n",
              "  </tbody>\n",
              "</table>\n",
              "</div>\n",
              "    <div class=\"colab-df-buttons\">\n",
              "\n",
              "  <div class=\"colab-df-container\">\n",
              "    <button class=\"colab-df-convert\" onclick=\"convertToInteractive('df-33711c78-cb49-4a0b-89a5-446b5d51beae')\"\n",
              "            title=\"Convert this dataframe to an interactive table.\"\n",
              "            style=\"display:none;\">\n",
              "\n",
              "  <svg xmlns=\"http://www.w3.org/2000/svg\" height=\"24px\" viewBox=\"0 -960 960 960\">\n",
              "    <path d=\"M120-120v-720h720v720H120Zm60-500h600v-160H180v160Zm220 220h160v-160H400v160Zm0 220h160v-160H400v160ZM180-400h160v-160H180v160Zm440 0h160v-160H620v160ZM180-180h160v-160H180v160Zm440 0h160v-160H620v160Z\"/>\n",
              "  </svg>\n",
              "    </button>\n",
              "\n",
              "  <style>\n",
              "    .colab-df-container {\n",
              "      display:flex;\n",
              "      gap: 12px;\n",
              "    }\n",
              "\n",
              "    .colab-df-convert {\n",
              "      background-color: #E8F0FE;\n",
              "      border: none;\n",
              "      border-radius: 50%;\n",
              "      cursor: pointer;\n",
              "      display: none;\n",
              "      fill: #1967D2;\n",
              "      height: 32px;\n",
              "      padding: 0 0 0 0;\n",
              "      width: 32px;\n",
              "    }\n",
              "\n",
              "    .colab-df-convert:hover {\n",
              "      background-color: #E2EBFA;\n",
              "      box-shadow: 0px 1px 2px rgba(60, 64, 67, 0.3), 0px 1px 3px 1px rgba(60, 64, 67, 0.15);\n",
              "      fill: #174EA6;\n",
              "    }\n",
              "\n",
              "    .colab-df-buttons div {\n",
              "      margin-bottom: 4px;\n",
              "    }\n",
              "\n",
              "    [theme=dark] .colab-df-convert {\n",
              "      background-color: #3B4455;\n",
              "      fill: #D2E3FC;\n",
              "    }\n",
              "\n",
              "    [theme=dark] .colab-df-convert:hover {\n",
              "      background-color: #434B5C;\n",
              "      box-shadow: 0px 1px 3px 1px rgba(0, 0, 0, 0.15);\n",
              "      filter: drop-shadow(0px 1px 2px rgba(0, 0, 0, 0.3));\n",
              "      fill: #FFFFFF;\n",
              "    }\n",
              "  </style>\n",
              "\n",
              "    <script>\n",
              "      const buttonEl =\n",
              "        document.querySelector('#df-33711c78-cb49-4a0b-89a5-446b5d51beae button.colab-df-convert');\n",
              "      buttonEl.style.display =\n",
              "        google.colab.kernel.accessAllowed ? 'block' : 'none';\n",
              "\n",
              "      async function convertToInteractive(key) {\n",
              "        const element = document.querySelector('#df-33711c78-cb49-4a0b-89a5-446b5d51beae');\n",
              "        const dataTable =\n",
              "          await google.colab.kernel.invokeFunction('convertToInteractive',\n",
              "                                                    [key], {});\n",
              "        if (!dataTable) return;\n",
              "\n",
              "        const docLinkHtml = 'Like what you see? Visit the ' +\n",
              "          '<a target=\"_blank\" href=https://colab.research.google.com/notebooks/data_table.ipynb>data table notebook</a>'\n",
              "          + ' to learn more about interactive tables.';\n",
              "        element.innerHTML = '';\n",
              "        dataTable['output_type'] = 'display_data';\n",
              "        await google.colab.output.renderOutput(dataTable, element);\n",
              "        const docLink = document.createElement('div');\n",
              "        docLink.innerHTML = docLinkHtml;\n",
              "        element.appendChild(docLink);\n",
              "      }\n",
              "    </script>\n",
              "  </div>\n",
              "\n",
              "\n",
              "<div id=\"df-41fe94e8-80b8-4876-95b1-f8e7e77e5e1b\">\n",
              "  <button class=\"colab-df-quickchart\" onclick=\"quickchart('df-41fe94e8-80b8-4876-95b1-f8e7e77e5e1b')\"\n",
              "            title=\"Suggest charts\"\n",
              "            style=\"display:none;\">\n",
              "\n",
              "<svg xmlns=\"http://www.w3.org/2000/svg\" height=\"24px\"viewBox=\"0 0 24 24\"\n",
              "     width=\"24px\">\n",
              "    <g>\n",
              "        <path d=\"M19 3H5c-1.1 0-2 .9-2 2v14c0 1.1.9 2 2 2h14c1.1 0 2-.9 2-2V5c0-1.1-.9-2-2-2zM9 17H7v-7h2v7zm4 0h-2V7h2v10zm4 0h-2v-4h2v4z\"/>\n",
              "    </g>\n",
              "</svg>\n",
              "  </button>\n",
              "\n",
              "<style>\n",
              "  .colab-df-quickchart {\n",
              "      --bg-color: #E8F0FE;\n",
              "      --fill-color: #1967D2;\n",
              "      --hover-bg-color: #E2EBFA;\n",
              "      --hover-fill-color: #174EA6;\n",
              "      --disabled-fill-color: #AAA;\n",
              "      --disabled-bg-color: #DDD;\n",
              "  }\n",
              "\n",
              "  [theme=dark] .colab-df-quickchart {\n",
              "      --bg-color: #3B4455;\n",
              "      --fill-color: #D2E3FC;\n",
              "      --hover-bg-color: #434B5C;\n",
              "      --hover-fill-color: #FFFFFF;\n",
              "      --disabled-bg-color: #3B4455;\n",
              "      --disabled-fill-color: #666;\n",
              "  }\n",
              "\n",
              "  .colab-df-quickchart {\n",
              "    background-color: var(--bg-color);\n",
              "    border: none;\n",
              "    border-radius: 50%;\n",
              "    cursor: pointer;\n",
              "    display: none;\n",
              "    fill: var(--fill-color);\n",
              "    height: 32px;\n",
              "    padding: 0;\n",
              "    width: 32px;\n",
              "  }\n",
              "\n",
              "  .colab-df-quickchart:hover {\n",
              "    background-color: var(--hover-bg-color);\n",
              "    box-shadow: 0 1px 2px rgba(60, 64, 67, 0.3), 0 1px 3px 1px rgba(60, 64, 67, 0.15);\n",
              "    fill: var(--button-hover-fill-color);\n",
              "  }\n",
              "\n",
              "  .colab-df-quickchart-complete:disabled,\n",
              "  .colab-df-quickchart-complete:disabled:hover {\n",
              "    background-color: var(--disabled-bg-color);\n",
              "    fill: var(--disabled-fill-color);\n",
              "    box-shadow: none;\n",
              "  }\n",
              "\n",
              "  .colab-df-spinner {\n",
              "    border: 2px solid var(--fill-color);\n",
              "    border-color: transparent;\n",
              "    border-bottom-color: var(--fill-color);\n",
              "    animation:\n",
              "      spin 1s steps(1) infinite;\n",
              "  }\n",
              "\n",
              "  @keyframes spin {\n",
              "    0% {\n",
              "      border-color: transparent;\n",
              "      border-bottom-color: var(--fill-color);\n",
              "      border-left-color: var(--fill-color);\n",
              "    }\n",
              "    20% {\n",
              "      border-color: transparent;\n",
              "      border-left-color: var(--fill-color);\n",
              "      border-top-color: var(--fill-color);\n",
              "    }\n",
              "    30% {\n",
              "      border-color: transparent;\n",
              "      border-left-color: var(--fill-color);\n",
              "      border-top-color: var(--fill-color);\n",
              "      border-right-color: var(--fill-color);\n",
              "    }\n",
              "    40% {\n",
              "      border-color: transparent;\n",
              "      border-right-color: var(--fill-color);\n",
              "      border-top-color: var(--fill-color);\n",
              "    }\n",
              "    60% {\n",
              "      border-color: transparent;\n",
              "      border-right-color: var(--fill-color);\n",
              "    }\n",
              "    80% {\n",
              "      border-color: transparent;\n",
              "      border-right-color: var(--fill-color);\n",
              "      border-bottom-color: var(--fill-color);\n",
              "    }\n",
              "    90% {\n",
              "      border-color: transparent;\n",
              "      border-bottom-color: var(--fill-color);\n",
              "    }\n",
              "  }\n",
              "</style>\n",
              "\n",
              "  <script>\n",
              "    async function quickchart(key) {\n",
              "      const quickchartButtonEl =\n",
              "        document.querySelector('#' + key + ' button');\n",
              "      quickchartButtonEl.disabled = true;  // To prevent multiple clicks.\n",
              "      quickchartButtonEl.classList.add('colab-df-spinner');\n",
              "      try {\n",
              "        const charts = await google.colab.kernel.invokeFunction(\n",
              "            'suggestCharts', [key], {});\n",
              "      } catch (error) {\n",
              "        console.error('Error during call to suggestCharts:', error);\n",
              "      }\n",
              "      quickchartButtonEl.classList.remove('colab-df-spinner');\n",
              "      quickchartButtonEl.classList.add('colab-df-quickchart-complete');\n",
              "    }\n",
              "    (() => {\n",
              "      let quickchartButtonEl =\n",
              "        document.querySelector('#df-41fe94e8-80b8-4876-95b1-f8e7e77e5e1b button');\n",
              "      quickchartButtonEl.style.display =\n",
              "        google.colab.kernel.accessAllowed ? 'block' : 'none';\n",
              "    })();\n",
              "  </script>\n",
              "</div>\n",
              "    </div>\n",
              "  </div>\n"
            ]
          },
          "metadata": {},
          "execution_count": 104
        }
      ]
    },
    {
      "cell_type": "code",
      "source": [
        "from sentence_transformers import SentenceTransformer\n",
        "\n",
        "encoder = SentenceTransformer('all-mpnet-base-v2')\n",
        "vectors = encoder.encode(df.text)\n",
        "vectors.shape"
      ],
      "metadata": {
        "colab": {
          "base_uri": "https://localhost:8080/"
        },
        "id": "eZUEmjWriobG",
        "outputId": "71448fa6-85a6-47ff-9eba-181ba6530d94"
      },
      "execution_count": 105,
      "outputs": [
        {
          "output_type": "execute_result",
          "data": {
            "text/plain": [
              "(8, 768)"
            ]
          },
          "metadata": {},
          "execution_count": 105
        }
      ]
    },
    {
      "cell_type": "code",
      "source": [
        "vectors"
      ],
      "metadata": {
        "colab": {
          "base_uri": "https://localhost:8080/"
        },
        "id": "-bGe6n0GjDMv",
        "outputId": "6de3e802-9770-4433-c061-08be70dc163a"
      },
      "execution_count": 106,
      "outputs": [
        {
          "output_type": "execute_result",
          "data": {
            "text/plain": [
              "array([[-0.00247394,  0.03626724, -0.05290459, ..., -0.09152356,\n",
              "        -0.0397    , -0.04330489],\n",
              "       [-0.03357267,  0.00980519, -0.0325013 , ..., -0.05165467,\n",
              "         0.0224589 , -0.03156179],\n",
              "       [-0.01865323, -0.04051317, -0.01235389, ...,  0.00610587,\n",
              "        -0.07179645,  0.02773852],\n",
              "       ...,\n",
              "       [-0.00066459,  0.04252123, -0.05645508, ...,  0.01315472,\n",
              "        -0.03183569, -0.04357662],\n",
              "       [-0.03317154,  0.03252453, -0.02484838, ...,  0.0117442 ,\n",
              "         0.05747123,  0.0057102 ],\n",
              "       [-0.00166395,  0.00413828, -0.04597083, ...,  0.02008528,\n",
              "         0.05656245, -0.00161596]], dtype=float32)"
            ]
          },
          "metadata": {},
          "execution_count": 106
        }
      ]
    },
    {
      "cell_type": "code",
      "source": [
        "dim = vectors.shape[1]\n",
        "dim"
      ],
      "metadata": {
        "colab": {
          "base_uri": "https://localhost:8080/"
        },
        "id": "puREhVWpjIPA",
        "outputId": "a11b0917-d6ee-4285-c6fa-8022b5ac10e7"
      },
      "execution_count": 107,
      "outputs": [
        {
          "output_type": "execute_result",
          "data": {
            "text/plain": [
              "768"
            ]
          },
          "metadata": {},
          "execution_count": 107
        }
      ]
    },
    {
      "cell_type": "code",
      "source": [
        "import faiss\n",
        "\n",
        "index = faiss.IndexFlatL2(dim) # creates an index to do faster search\n",
        "index"
      ],
      "metadata": {
        "colab": {
          "base_uri": "https://localhost:8080/"
        },
        "id": "h0-NyPGcjU4K",
        "outputId": "103013e5-9ae1-4f37-97d6-f3a6757337ee"
      },
      "execution_count": 108,
      "outputs": [
        {
          "output_type": "execute_result",
          "data": {
            "text/plain": [
              "<faiss.swigfaiss_avx2.IndexFlatL2; proxy of <Swig Object of type 'faiss::IndexFlatL2 *' at 0x7c807199cf00> >"
            ]
          },
          "metadata": {},
          "execution_count": 108
        }
      ]
    },
    {
      "cell_type": "code",
      "source": [
        "index.add(vectors)\n"
      ],
      "metadata": {
        "id": "TOArdIycjnoG"
      },
      "execution_count": 109,
      "outputs": []
    },
    {
      "cell_type": "code",
      "source": [
        "search_query = 'I want to buy a polo t-shirt'\n",
        "vec = encoder.encode(search_query)\n",
        "vec.shape"
      ],
      "metadata": {
        "colab": {
          "base_uri": "https://localhost:8080/"
        },
        "id": "31mbxbBjj076",
        "outputId": "6c64687d-a0a1-48c3-c2ea-34a8f6701d50"
      },
      "execution_count": 110,
      "outputs": [
        {
          "output_type": "execute_result",
          "data": {
            "text/plain": [
              "(768,)"
            ]
          },
          "metadata": {},
          "execution_count": 110
        }
      ]
    },
    {
      "cell_type": "code",
      "source": [
        "import numpy as np\n",
        "svec = np.array(vec).reshape(1,-1)\n",
        "svec.shape"
      ],
      "metadata": {
        "colab": {
          "base_uri": "https://localhost:8080/"
        },
        "id": "S7ZX1932kAK1",
        "outputId": "5aa941c9-721f-431a-f7b2-81da477f7856"
      },
      "execution_count": 111,
      "outputs": [
        {
          "output_type": "execute_result",
          "data": {
            "text/plain": [
              "(1, 768)"
            ]
          },
          "metadata": {},
          "execution_count": 111
        }
      ]
    },
    {
      "cell_type": "code",
      "source": [
        "distances, I = index.search(svec, k=2 )\n",
        "I"
      ],
      "metadata": {
        "colab": {
          "base_uri": "https://localhost:8080/"
        },
        "id": "mRUAKPKpjxwp",
        "outputId": "d88a2c0c-6cfe-4f05-b46b-07547925c1cf"
      },
      "execution_count": 112,
      "outputs": [
        {
          "output_type": "execute_result",
          "data": {
            "text/plain": [
              "array([[3, 2]])"
            ]
          },
          "metadata": {},
          "execution_count": 112
        }
      ]
    },
    {
      "cell_type": "code",
      "source": [
        "df.loc[I[0]]"
      ],
      "metadata": {
        "colab": {
          "base_uri": "https://localhost:8080/",
          "height": 112
        },
        "id": "qcM257g4kTYb",
        "outputId": "0322fcd8-14ee-499c-aa53-db08921846f6"
      },
      "execution_count": 113,
      "outputs": [
        {
          "output_type": "execute_result",
          "data": {
            "text/plain": [
              "                                                text category\n",
              "3  Vibrant color jeans for male are becoming a trend  Fashion\n",
              "2  These are the latest fashion trends for this week  Fashion"
            ],
            "text/html": [
              "\n",
              "  <div id=\"df-e16dcd70-1155-45bd-b2b8-ccf236099437\" class=\"colab-df-container\">\n",
              "    <div>\n",
              "<style scoped>\n",
              "    .dataframe tbody tr th:only-of-type {\n",
              "        vertical-align: middle;\n",
              "    }\n",
              "\n",
              "    .dataframe tbody tr th {\n",
              "        vertical-align: top;\n",
              "    }\n",
              "\n",
              "    .dataframe thead th {\n",
              "        text-align: right;\n",
              "    }\n",
              "</style>\n",
              "<table border=\"1\" class=\"dataframe\">\n",
              "  <thead>\n",
              "    <tr style=\"text-align: right;\">\n",
              "      <th></th>\n",
              "      <th>text</th>\n",
              "      <th>category</th>\n",
              "    </tr>\n",
              "  </thead>\n",
              "  <tbody>\n",
              "    <tr>\n",
              "      <th>3</th>\n",
              "      <td>Vibrant color jeans for male are becoming a trend</td>\n",
              "      <td>Fashion</td>\n",
              "    </tr>\n",
              "    <tr>\n",
              "      <th>2</th>\n",
              "      <td>These are the latest fashion trends for this week</td>\n",
              "      <td>Fashion</td>\n",
              "    </tr>\n",
              "  </tbody>\n",
              "</table>\n",
              "</div>\n",
              "    <div class=\"colab-df-buttons\">\n",
              "\n",
              "  <div class=\"colab-df-container\">\n",
              "    <button class=\"colab-df-convert\" onclick=\"convertToInteractive('df-e16dcd70-1155-45bd-b2b8-ccf236099437')\"\n",
              "            title=\"Convert this dataframe to an interactive table.\"\n",
              "            style=\"display:none;\">\n",
              "\n",
              "  <svg xmlns=\"http://www.w3.org/2000/svg\" height=\"24px\" viewBox=\"0 -960 960 960\">\n",
              "    <path d=\"M120-120v-720h720v720H120Zm60-500h600v-160H180v160Zm220 220h160v-160H400v160Zm0 220h160v-160H400v160ZM180-400h160v-160H180v160Zm440 0h160v-160H620v160ZM180-180h160v-160H180v160Zm440 0h160v-160H620v160Z\"/>\n",
              "  </svg>\n",
              "    </button>\n",
              "\n",
              "  <style>\n",
              "    .colab-df-container {\n",
              "      display:flex;\n",
              "      gap: 12px;\n",
              "    }\n",
              "\n",
              "    .colab-df-convert {\n",
              "      background-color: #E8F0FE;\n",
              "      border: none;\n",
              "      border-radius: 50%;\n",
              "      cursor: pointer;\n",
              "      display: none;\n",
              "      fill: #1967D2;\n",
              "      height: 32px;\n",
              "      padding: 0 0 0 0;\n",
              "      width: 32px;\n",
              "    }\n",
              "\n",
              "    .colab-df-convert:hover {\n",
              "      background-color: #E2EBFA;\n",
              "      box-shadow: 0px 1px 2px rgba(60, 64, 67, 0.3), 0px 1px 3px 1px rgba(60, 64, 67, 0.15);\n",
              "      fill: #174EA6;\n",
              "    }\n",
              "\n",
              "    .colab-df-buttons div {\n",
              "      margin-bottom: 4px;\n",
              "    }\n",
              "\n",
              "    [theme=dark] .colab-df-convert {\n",
              "      background-color: #3B4455;\n",
              "      fill: #D2E3FC;\n",
              "    }\n",
              "\n",
              "    [theme=dark] .colab-df-convert:hover {\n",
              "      background-color: #434B5C;\n",
              "      box-shadow: 0px 1px 3px 1px rgba(0, 0, 0, 0.15);\n",
              "      filter: drop-shadow(0px 1px 2px rgba(0, 0, 0, 0.3));\n",
              "      fill: #FFFFFF;\n",
              "    }\n",
              "  </style>\n",
              "\n",
              "    <script>\n",
              "      const buttonEl =\n",
              "        document.querySelector('#df-e16dcd70-1155-45bd-b2b8-ccf236099437 button.colab-df-convert');\n",
              "      buttonEl.style.display =\n",
              "        google.colab.kernel.accessAllowed ? 'block' : 'none';\n",
              "\n",
              "      async function convertToInteractive(key) {\n",
              "        const element = document.querySelector('#df-e16dcd70-1155-45bd-b2b8-ccf236099437');\n",
              "        const dataTable =\n",
              "          await google.colab.kernel.invokeFunction('convertToInteractive',\n",
              "                                                    [key], {});\n",
              "        if (!dataTable) return;\n",
              "\n",
              "        const docLinkHtml = 'Like what you see? Visit the ' +\n",
              "          '<a target=\"_blank\" href=https://colab.research.google.com/notebooks/data_table.ipynb>data table notebook</a>'\n",
              "          + ' to learn more about interactive tables.';\n",
              "        element.innerHTML = '';\n",
              "        dataTable['output_type'] = 'display_data';\n",
              "        await google.colab.output.renderOutput(dataTable, element);\n",
              "        const docLink = document.createElement('div');\n",
              "        docLink.innerHTML = docLinkHtml;\n",
              "        element.appendChild(docLink);\n",
              "      }\n",
              "    </script>\n",
              "  </div>\n",
              "\n",
              "\n",
              "<div id=\"df-844e70d1-5fac-46b6-88d4-22676ee2b4d3\">\n",
              "  <button class=\"colab-df-quickchart\" onclick=\"quickchart('df-844e70d1-5fac-46b6-88d4-22676ee2b4d3')\"\n",
              "            title=\"Suggest charts\"\n",
              "            style=\"display:none;\">\n",
              "\n",
              "<svg xmlns=\"http://www.w3.org/2000/svg\" height=\"24px\"viewBox=\"0 0 24 24\"\n",
              "     width=\"24px\">\n",
              "    <g>\n",
              "        <path d=\"M19 3H5c-1.1 0-2 .9-2 2v14c0 1.1.9 2 2 2h14c1.1 0 2-.9 2-2V5c0-1.1-.9-2-2-2zM9 17H7v-7h2v7zm4 0h-2V7h2v10zm4 0h-2v-4h2v4z\"/>\n",
              "    </g>\n",
              "</svg>\n",
              "  </button>\n",
              "\n",
              "<style>\n",
              "  .colab-df-quickchart {\n",
              "      --bg-color: #E8F0FE;\n",
              "      --fill-color: #1967D2;\n",
              "      --hover-bg-color: #E2EBFA;\n",
              "      --hover-fill-color: #174EA6;\n",
              "      --disabled-fill-color: #AAA;\n",
              "      --disabled-bg-color: #DDD;\n",
              "  }\n",
              "\n",
              "  [theme=dark] .colab-df-quickchart {\n",
              "      --bg-color: #3B4455;\n",
              "      --fill-color: #D2E3FC;\n",
              "      --hover-bg-color: #434B5C;\n",
              "      --hover-fill-color: #FFFFFF;\n",
              "      --disabled-bg-color: #3B4455;\n",
              "      --disabled-fill-color: #666;\n",
              "  }\n",
              "\n",
              "  .colab-df-quickchart {\n",
              "    background-color: var(--bg-color);\n",
              "    border: none;\n",
              "    border-radius: 50%;\n",
              "    cursor: pointer;\n",
              "    display: none;\n",
              "    fill: var(--fill-color);\n",
              "    height: 32px;\n",
              "    padding: 0;\n",
              "    width: 32px;\n",
              "  }\n",
              "\n",
              "  .colab-df-quickchart:hover {\n",
              "    background-color: var(--hover-bg-color);\n",
              "    box-shadow: 0 1px 2px rgba(60, 64, 67, 0.3), 0 1px 3px 1px rgba(60, 64, 67, 0.15);\n",
              "    fill: var(--button-hover-fill-color);\n",
              "  }\n",
              "\n",
              "  .colab-df-quickchart-complete:disabled,\n",
              "  .colab-df-quickchart-complete:disabled:hover {\n",
              "    background-color: var(--disabled-bg-color);\n",
              "    fill: var(--disabled-fill-color);\n",
              "    box-shadow: none;\n",
              "  }\n",
              "\n",
              "  .colab-df-spinner {\n",
              "    border: 2px solid var(--fill-color);\n",
              "    border-color: transparent;\n",
              "    border-bottom-color: var(--fill-color);\n",
              "    animation:\n",
              "      spin 1s steps(1) infinite;\n",
              "  }\n",
              "\n",
              "  @keyframes spin {\n",
              "    0% {\n",
              "      border-color: transparent;\n",
              "      border-bottom-color: var(--fill-color);\n",
              "      border-left-color: var(--fill-color);\n",
              "    }\n",
              "    20% {\n",
              "      border-color: transparent;\n",
              "      border-left-color: var(--fill-color);\n",
              "      border-top-color: var(--fill-color);\n",
              "    }\n",
              "    30% {\n",
              "      border-color: transparent;\n",
              "      border-left-color: var(--fill-color);\n",
              "      border-top-color: var(--fill-color);\n",
              "      border-right-color: var(--fill-color);\n",
              "    }\n",
              "    40% {\n",
              "      border-color: transparent;\n",
              "      border-right-color: var(--fill-color);\n",
              "      border-top-color: var(--fill-color);\n",
              "    }\n",
              "    60% {\n",
              "      border-color: transparent;\n",
              "      border-right-color: var(--fill-color);\n",
              "    }\n",
              "    80% {\n",
              "      border-color: transparent;\n",
              "      border-right-color: var(--fill-color);\n",
              "      border-bottom-color: var(--fill-color);\n",
              "    }\n",
              "    90% {\n",
              "      border-color: transparent;\n",
              "      border-bottom-color: var(--fill-color);\n",
              "    }\n",
              "  }\n",
              "</style>\n",
              "\n",
              "  <script>\n",
              "    async function quickchart(key) {\n",
              "      const quickchartButtonEl =\n",
              "        document.querySelector('#' + key + ' button');\n",
              "      quickchartButtonEl.disabled = true;  // To prevent multiple clicks.\n",
              "      quickchartButtonEl.classList.add('colab-df-spinner');\n",
              "      try {\n",
              "        const charts = await google.colab.kernel.invokeFunction(\n",
              "            'suggestCharts', [key], {});\n",
              "      } catch (error) {\n",
              "        console.error('Error during call to suggestCharts:', error);\n",
              "      }\n",
              "      quickchartButtonEl.classList.remove('colab-df-spinner');\n",
              "      quickchartButtonEl.classList.add('colab-df-quickchart-complete');\n",
              "    }\n",
              "    (() => {\n",
              "      let quickchartButtonEl =\n",
              "        document.querySelector('#df-844e70d1-5fac-46b6-88d4-22676ee2b4d3 button');\n",
              "      quickchartButtonEl.style.display =\n",
              "        google.colab.kernel.accessAllowed ? 'block' : 'none';\n",
              "    })();\n",
              "  </script>\n",
              "</div>\n",
              "    </div>\n",
              "  </div>\n"
            ]
          },
          "metadata": {},
          "execution_count": 113
        }
      ]
    },
    {
      "cell_type": "code",
      "source": [
        "search_query"
      ],
      "metadata": {
        "colab": {
          "base_uri": "https://localhost:8080/",
          "height": 35
        },
        "id": "rmDzGxQQkj7p",
        "outputId": "5367a521-6a75-4803-ec71-4032de9b0d51"
      },
      "execution_count": 114,
      "outputs": [
        {
          "output_type": "execute_result",
          "data": {
            "text/plain": [
              "'I want to buy a polo t-shirt'"
            ],
            "application/vnd.google.colaboratory.intrinsic+json": {
              "type": "string"
            }
          },
          "metadata": {},
          "execution_count": 114
        }
      ]
    },
    {
      "cell_type": "code",
      "source": [],
      "metadata": {
        "id": "CgvMHZwZksEq"
      },
      "execution_count": 114,
      "outputs": []
    }
  ]
}